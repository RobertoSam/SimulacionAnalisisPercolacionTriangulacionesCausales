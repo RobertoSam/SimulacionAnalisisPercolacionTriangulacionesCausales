{
 "cells": [
  {
   "cell_type": "markdown",
   "id": "da0c8241",
   "metadata": {},
   "source": [
    "# 🔺 Construcción de la Triangulación Causal\n",
    "Este notebook toma un árbol de Galton-Watson con espina y genera la triangulación causal correspondiente en el cilindro \\( S \\times [n, n+1] \\)."
   ]
  },
  {
   "cell_type": "code",
   "execution_count": null,
   "id": "9a7021b3",
   "metadata": {},
   "outputs": [],
   "source": [
    "!pip install numpy matplotlib networkx"
   ]
  },
  {
   "cell_type": "code",
   "execution_count": null,
   "id": "915ed4d6",
   "metadata": {},
   "outputs": [],
   "source": [
    "\n",
    "import numpy as np\n",
    "import networkx as nx\n",
    "import matplotlib.pyplot as plt\n",
    "\n",
    "# Simulación básica del árbol para tener vértices por niveles\n",
    "def sample_rhok():\n",
    "    while True:\n",
    "        k = np.random.geometric(p=0.5)\n",
    "        if k > 0 and np.random.rand() < (k / (2 ** (k + 1))) / (1 / (2 ** k)):\n",
    "            return k\n",
    "\n",
    "def sample_pk():\n",
    "    r = np.random.rand()\n",
    "    k = 0\n",
    "    while r > 1 / (2 ** (k + 1)):\n",
    "        r -= 1 / (2 ** (k + 1))\n",
    "        k += 1\n",
    "    return k\n",
    "\n",
    "def generate_layers(n_layers=5):\n",
    "    layers = [[0]]  # raíz\n",
    "    spine_index = [0]\n",
    "    node_id = 1\n",
    "    for _ in range(n_layers):\n",
    "        new_layer = []\n",
    "        new_spine = []\n",
    "        for idx, parent in enumerate(layers[-1]):\n",
    "            if parent == spine_index[-1]:\n",
    "                k = sample_rhok()\n",
    "            else:\n",
    "                k = sample_pk()\n",
    "            children = list(range(node_id, node_id + k))\n",
    "            node_id += k\n",
    "            new_layer.extend(children)\n",
    "            if parent == spine_index[-1] and k > 0:\n",
    "                new_spine.append(children[np.random.randint(0, k)])\n",
    "        spine_index.append(new_spine[0] if new_spine else -1)\n",
    "        layers.append(new_layer)\n",
    "    return layers, spine_index\n",
    "\n",
    "def triangulate_layers(layers):\n",
    "    G = nx.Graph()\n",
    "    for i, layer in enumerate(layers):\n",
    "        for v in layer:\n",
    "            G.add_node((i, v), layer=i)\n",
    "        if i < len(layers) - 1:\n",
    "            upper = layers[i + 1]\n",
    "            for j in range(len(upper)):\n",
    "                G.add_edge((i, layer[j % len(layer)]), (i + 1, upper[j]))\n",
    "            for j in range(len(upper) - 1):\n",
    "                G.add_edge((i + 1, upper[j]), (i + 1, upper[j + 1]))\n",
    "    return G\n",
    "\n",
    "def draw_triangulation(G):\n",
    "    pos = {}\n",
    "    for (layer, v) in G.nodes:\n",
    "        pos[(layer, v)] = (v, -layer)\n",
    "    nx.draw(G, pos, with_labels=False, node_size=100, node_color='skyblue')\n",
    "    plt.title(\"Triangulación Causal (esquemática)\")\n",
    "    plt.show()\n"
   ]
  },
  {
   "cell_type": "code",
   "execution_count": null,
   "id": "6c24aba3",
   "metadata": {},
   "outputs": [],
   "source": [
    "\n",
    "layers, spine = generate_layers(n_layers=6)\n",
    "G = triangulate_layers(layers)\n",
    "draw_triangulation(G)\n"
   ]
  }
 ],
 "metadata": {},
 "nbformat": 4,
 "nbformat_minor": 5
}
