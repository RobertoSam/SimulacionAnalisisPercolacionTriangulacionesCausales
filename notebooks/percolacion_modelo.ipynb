{
 "cells": [
  {
   "cell_type": "markdown",
   "id": "2df492d4",
   "metadata": {},
   "source": [
    "# 🔁 Modelo de Percolación: r-step y s-step\n",
    "Este notebook implementa el modelo de percolación sobre triangulaciones causales usando dos pasos:\n",
    "\n",
    "- **r-step**: propagación vertical (entre capas)\n",
    "- **s-step**: propagación horizontal (en la misma capa)"
   ]
  },
  {
   "cell_type": "code",
   "execution_count": null,
   "id": "69a4f7d0",
   "metadata": {},
   "outputs": [],
   "source": [
    "!pip install numpy matplotlib"
   ]
  },
  {
   "cell_type": "code",
   "execution_count": null,
   "id": "42c0e083",
   "metadata": {},
   "outputs": [],
   "source": [
    "\n",
    "import numpy as np\n",
    "import matplotlib.pyplot as plt\n",
    "\n",
    "def r_step(cluster_prev, p, k):\n",
    "    r = np.random.rand(k)\n",
    "    cluster_next = np.zeros(k, dtype=int)\n",
    "    cluster_id = max(cluster_prev) + 1\n",
    "    for i in range(k):\n",
    "        if r[i] < p:\n",
    "            cluster_next[i] = cluster_prev[0]  # mismo clúster que el origen\n",
    "        else:\n",
    "            cluster_next[i] = cluster_id\n",
    "            cluster_id += 1\n",
    "    return cluster_next\n",
    "\n",
    "def s_step(cluster_next, p):\n",
    "    s = np.random.rand(len(cluster_next) - 1)\n",
    "    for i in range(len(s)):\n",
    "        if s[i] < p:\n",
    "            m = min(cluster_next[i], cluster_next[i + 1])\n",
    "            cluster_next[i] = cluster_next[i + 1] = m\n",
    "    return cluster_next\n",
    "\n",
    "def plot_clusters(cluster_vector, title=\"\"):\n",
    "    unique = list(set(cluster_vector))\n",
    "    colors = {v: i for i, v in enumerate(unique)}\n",
    "    y = [0] * len(cluster_vector)\n",
    "    x = list(range(len(cluster_vector)))\n",
    "    c = [colors[v] for v in cluster_vector]\n",
    "    plt.scatter(x, y, c=c, cmap='tab10', s=200)\n",
    "    plt.title(title)\n",
    "    plt.yticks([])\n",
    "    plt.show()\n"
   ]
  },
  {
   "cell_type": "code",
   "execution_count": null,
   "id": "372c3100",
   "metadata": {},
   "outputs": [],
   "source": [
    "\n",
    "# 🔁 Simulación simple de un paso de percolación\n",
    "p = 0.5\n",
    "k = 10\n",
    "cluster_0 = [1]  # raíz\n",
    "\n",
    "cluster_1 = r_step(cluster_0, p, k)\n",
    "cluster_1 = s_step(cluster_1, p)\n",
    "\n",
    "plot_clusters(cluster_1, title=\"Configuración de clústeres tras r-step y s-step\")\n"
   ]
  }
 ],
 "metadata": {},
 "nbformat": 4,
 "nbformat_minor": 5
}
