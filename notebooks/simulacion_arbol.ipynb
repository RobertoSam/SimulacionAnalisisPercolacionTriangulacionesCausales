{
 "cells": [
  {
   "cell_type": "markdown",
   "id": "89ec52bb",
   "metadata": {},
   "source": [
    "# 🌳 Simulación de Árbol Galton-Watson con Espina"
   ]
  },
  {
   "cell_type": "code",
   "execution_count": null,
   "id": "e51e0035",
   "metadata": {},
   "outputs": [],
   "source": [
    "!pip install numpy matplotlib networkx"
   ]
  },
  {
   "cell_type": "code",
   "execution_count": null,
   "id": "d6331c78",
   "metadata": {},
   "outputs": [],
   "source": [
    "import numpy as np\n",
    "import networkx as nx\n",
    "import matplotlib.pyplot as plt\n",
    "\n",
    "def sample_pk():\n",
    "    r = np.random.rand()\n",
    "    k = 0\n",
    "    while r > 1 / (2 ** (k + 1)):\n",
    "        r -= 1 / (2 ** (k + 1))\n",
    "        k += 1\n",
    "    return k\n",
    "\n",
    "def sample_rhok():\n",
    "    while True:\n",
    "        k = np.random.geometric(p=0.5)\n",
    "        if k > 0 and np.random.rand() < (k / (2 ** (k + 1))) / (1 / (2 ** k)):\n",
    "            return k\n",
    "\n",
    "def generate_gw_tree_with_spine(max_depth=10):\n",
    "    G = nx.DiGraph()\n",
    "    root = 0\n",
    "    G.add_node(root, depth=0)\n",
    "    current_node = root\n",
    "    node_counter = 1\n",
    "    for depth in range(max_depth):\n",
    "        spine_children = sample_rhok()\n",
    "        spine_child_ids = list(range(node_counter, node_counter + spine_children))\n",
    "        G.add_edges_from([(current_node, c) for c in spine_child_ids])\n",
    "        G.nodes[current_node]['spine'] = True\n",
    "        next_root = np.random.choice(spine_child_ids)\n",
    "        for c in spine_child_ids:\n",
    "            if c != next_root:\n",
    "                n_children = sample_pk()\n",
    "                for i in range(n_children):\n",
    "                    child = node_counter + spine_children + i\n",
    "                    G.add_edge(c, child)\n",
    "                node_counter += n_children\n",
    "        current_node = next_root\n",
    "        node_counter += spine_children\n",
    "    return G\n",
    "\n",
    "def draw_tree(G):\n",
    "    pos = nx.spring_layout(G, seed=42)\n",
    "    colors = ['red' if G.nodes[n].get('spine', False) else 'skyblue' for n in G.nodes]\n",
    "    nx.draw(G, pos, node_color=colors, with_labels=True, node_size=500, arrows=True)\n",
    "    plt.title(\"Árbol de Galton-Watson condicionado (espina en rojo)\")\n",
    "    plt.show()\n",
    "\n",
    "if __name__ == \"__main__\":\n",
    "    tree = generate_gw_tree_with_spine(max_depth=6)\n",
    "    draw_tree(tree)\n"
   ]
  },
  {
   "cell_type": "code",
   "execution_count": null,
   "id": "85acfe34",
   "metadata": {},
   "outputs": [],
   "source": [
    "tree = generate_gw_tree_with_spine(max_depth=6)\n",
    "draw_tree(tree)"
   ]
  }
 ],
 "metadata": {},
 "nbformat": 4,
 "nbformat_minor": 5
}
