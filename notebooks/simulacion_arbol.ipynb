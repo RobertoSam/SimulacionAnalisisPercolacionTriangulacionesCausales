{
  "cells": [
    {
      "cell_type": "markdown",
      "id": "89ec52bb",
      "metadata": {
        "id": "89ec52bb"
      },
      "source": [
        "# 🌳 Simulación de Árbol Galton-Watson con Espina"
      ]
    },
    {
      "cell_type": "code",
      "execution_count": 6,
      "id": "e51e0035",
      "metadata": {
        "id": "e51e0035",
        "outputId": "5828e72d-233f-41e6-8dc4-ab7914736f2b",
        "colab": {
          "base_uri": "https://localhost:8080/"
        }
      },
      "outputs": [
        {
          "output_type": "stream",
          "name": "stdout",
          "text": [
            "Requirement already satisfied: numpy in /usr/local/lib/python3.11/dist-packages (2.0.2)\n",
            "Requirement already satisfied: matplotlib in /usr/local/lib/python3.11/dist-packages (3.10.0)\n",
            "Requirement already satisfied: networkx in /usr/local/lib/python3.11/dist-packages (3.5)\n",
            "Requirement already satisfied: contourpy>=1.0.1 in /usr/local/lib/python3.11/dist-packages (from matplotlib) (1.3.3)\n",
            "Requirement already satisfied: cycler>=0.10 in /usr/local/lib/python3.11/dist-packages (from matplotlib) (0.12.1)\n",
            "Requirement already satisfied: fonttools>=4.22.0 in /usr/local/lib/python3.11/dist-packages (from matplotlib) (4.59.0)\n",
            "Requirement already satisfied: kiwisolver>=1.3.1 in /usr/local/lib/python3.11/dist-packages (from matplotlib) (1.4.9)\n",
            "Requirement already satisfied: packaging>=20.0 in /usr/local/lib/python3.11/dist-packages (from matplotlib) (25.0)\n",
            "Requirement already satisfied: pillow>=8 in /usr/local/lib/python3.11/dist-packages (from matplotlib) (11.3.0)\n",
            "Requirement already satisfied: pyparsing>=2.3.1 in /usr/local/lib/python3.11/dist-packages (from matplotlib) (3.2.3)\n",
            "Requirement already satisfied: python-dateutil>=2.7 in /usr/local/lib/python3.11/dist-packages (from matplotlib) (2.9.0.post0)\n",
            "Requirement already satisfied: six>=1.5 in /usr/local/lib/python3.11/dist-packages (from python-dateutil>=2.7->matplotlib) (1.17.0)\n"
          ]
        }
      ],
      "source": [
        "!pip install numpy matplotlib networkx"
      ]
    },
    {
      "cell_type": "code",
      "execution_count": null,
      "id": "d6331c78",
      "metadata": {
        "id": "d6331c78"
      },
      "outputs": [],
      "source": [
        "import numpy as np\n",
        "import networkx as nx\n",
        "import matplotlib.pyplot as plt\n",
        "\n",
        "def sample_pk():\n",
        "    r = np.random.rand()\n",
        "    k = 0\n",
        "    while r > 1 / (2 ** (k + 1)):\n",
        "        r -= 1 / (2 ** (k + 1))\n",
        "        k += 1\n",
        "    return k\n",
        "\n",
        "def sample_rhok():\n",
        "    while True:\n",
        "        k = np.random.geometric(p=0.5)\n",
        "        if k > 0 and np.random.rand() < (k / (2 ** (k + 1))) / (1 / (2 ** k)):\n",
        "            return k\n",
        "\n",
        "def generate_gw_tree_with_spine(max_depth=10):\n",
        "    G = nx.DiGraph()\n",
        "    root = 0\n",
        "    G.add_node(root, depth=0)\n",
        "    current_node = root\n",
        "    node_counter = 1\n",
        "    for depth in range(max_depth):\n",
        "        spine_children = sample_rhok()\n",
        "        spine_child_ids = list(range(node_counter, node_counter + spine_children))\n",
        "        G.add_edges_from([(current_node, c) for c in spine_child_ids])\n",
        "        G.nodes[current_node]['spine'] = True\n",
        "        next_root = np.random.choice(spine_child_ids)\n",
        "        for c in spine_child_ids:\n",
        "            if c != next_root:\n",
        "                n_children = sample_pk()\n",
        "                for i in range(n_children):\n",
        "                    child = node_counter + spine_children + i\n",
        "                    G.add_edge(c, child)\n",
        "                node_counter += n_children\n",
        "        current_node = next_root\n",
        "        node_counter += spine_children\n",
        "    return G\n",
        "\n",
        "def draw_tree(G):\n",
        "    pos = nx.spring_layout(G, seed=42)\n",
        "    colors = ['red' if G.nodes[n].get('spine', False) else 'skyblue' for n in G.nodes]\n",
        "    nx.draw(G, pos, node_color=colors, with_labels=True, node_size=500, arrows=True)\n",
        "    plt.title(\"Árbol de Galton-Watson condicionado (espina en rojo)\")\n",
        "    plt.show()\n",
        "\n",
        "if __name__ == \"__main__\":\n",
        "    tree = generate_gw_tree_with_spine(max_depth=6)\n",
        "    draw_tree(tree)\n"
      ]
    },
    {
      "cell_type": "code",
      "execution_count": null,
      "id": "85acfe34",
      "metadata": {
        "id": "85acfe34"
      },
      "outputs": [],
      "source": [
        "tree = generate_gw_tree_with_spine(max_depth=6)\n",
        "draw_tree(tree)"
      ]
    }
  ],
  "metadata": {
    "colab": {
      "provenance": []
    },
    "language_info": {
      "name": "python"
    },
    "kernelspec": {
      "name": "python3",
      "display_name": "Python 3"
    }
  },
  "nbformat": 4,
  "nbformat_minor": 5
}